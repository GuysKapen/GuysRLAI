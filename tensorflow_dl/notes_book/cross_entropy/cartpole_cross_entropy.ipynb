{
 "cells": [
  {
   "cell_type": "code",
   "execution_count": 1,
   "metadata": {
    "collapsed": true
   },
   "outputs": [],
   "source": [
    "import gym\n",
    "from collections import namedtuple\n",
    "import numpy as np\n",
    "\n",
    "import tensorflow as tf\n",
    "import tensorflow.keras.layers as layers"
   ]
  },
  {
   "cell_type": "code",
   "execution_count": 2,
   "outputs": [],
   "source": [
    "HIDDEN_SIZE = 128\n",
    "BATCH_SIZE = 16\n",
    "PERCENTILE = 70"
   ],
   "metadata": {
    "collapsed": false,
    "pycharm": {
     "name": "#%%\n"
    }
   }
  },
  {
   "cell_type": "code",
   "execution_count": 3,
   "outputs": [],
   "source": [
    "class Net(tf.keras.Model):\n",
    "    def get_config(self):\n",
    "        pass\n",
    "    def __init__(self, hidden_size, n_actions):\n",
    "        super(Net, self).__init__()\n",
    "        self.net = tf.keras.Sequential([\n",
    "            layers.Dense(hidden_size),\n",
    "            layers.ReLU(),\n",
    "            layers.Dense(n_actions)\n",
    "        ])\n",
    "\n",
    "    def call(self, inputs, training=None, mask=None):\n",
    "        return self.net(inputs)"
   ],
   "metadata": {
    "collapsed": false,
    "pycharm": {
     "name": "#%%\n"
    }
   }
  },
  {
   "cell_type": "code",
   "execution_count": 4,
   "outputs": [],
   "source": [
    "Episode = namedtuple('Episode', field_names=['reward', 'steps'])\n",
    "EpisodeStep = namedtuple(\"EpisodeStep\", field_names=['observation', 'action'])"
   ],
   "metadata": {
    "collapsed": false,
    "pycharm": {
     "name": "#%%\n"
    }
   }
  },
  {
   "cell_type": "code",
   "execution_count": 5,
   "outputs": [],
   "source": [
    "def iterate_batches(env, net, batch_size):\n",
    "    batch = []\n",
    "    episode_reward = 0.0\n",
    "    episode_steps = []\n",
    "    obs = env.reset()\n",
    "    softmax = layers.Softmax(axis=1)\n",
    "    while True:\n",
    "        obs_v = tf.convert_to_tensor([obs])\n",
    "        act_probs_v = softmax(net(obs_v))\n",
    "        act_probs = act_probs_v.numpy()[0]\n",
    "        action = np.random.choice(len(act_probs), p=act_probs)\n",
    "        next_obs, reward, is_done, _ = env.step(action)\n",
    "        episode_reward += reward\n",
    "        episode_steps.append(EpisodeStep(observation=obs, action=action))\n",
    "        if is_done:\n",
    "            batch.append(Episode(reward=episode_reward, steps=episode_steps))\n",
    "            episode_reward = 0.0\n",
    "            episode_steps = []\n",
    "            next_obs = env.reset()\n",
    "            if len(batch) == batch_size:\n",
    "                yield batch\n",
    "                batch = []\n",
    "        obs = next_obs\n",
    "\n"
   ],
   "metadata": {
    "collapsed": false,
    "pycharm": {
     "name": "#%%\n"
    }
   }
  },
  {
   "cell_type": "code",
   "execution_count": 6,
   "outputs": [],
   "source": [
    "def filter_batch(batch, percentile):\n",
    "    rewards = list(map(lambda s: s.reward, batch))\n",
    "    reward_bound = np.percentile(rewards, percentile)\n",
    "    reward_mean = float(np.mean(rewards))\n",
    "\n",
    "    train_obs = []\n",
    "    train_act = []\n",
    "    for example in batch:\n",
    "        if example.reward < reward_bound:\n",
    "            continue\n",
    "        train_obs.extend(map(lambda step: step.observation, example.steps))\n",
    "        train_act.extend(map(lambda step: step.action, example.steps))\n",
    "\n",
    "    train_obs_v = tf.convert_to_tensor(train_obs)\n",
    "    train_act_v = tf.convert_to_tensor(train_act, dtype=tf.int64)\n",
    "    return train_obs_v, train_act_v, reward_bound, reward_mean"
   ],
   "metadata": {
    "collapsed": false,
    "pycharm": {
     "name": "#%%\n"
    }
   }
  },
  {
   "cell_type": "code",
   "execution_count": 8,
   "outputs": [
    {
     "name": "stdout",
     "output_type": "stream",
     "text": [
      "0: loss=0.693, reward_mean=23.2, reward_bound=25.0\n",
      "1: loss=0.679, reward_mean=19.4, reward_bound=19.0\n",
      "2: loss=0.673, reward_mean=27.9, reward_bound=31.0\n",
      "3: loss=0.666, reward_mean=27.0, reward_bound=31.5\n",
      "4: loss=0.660, reward_mean=29.4, reward_bound=33.0\n",
      "5: loss=0.623, reward_mean=36.5, reward_bound=49.0\n",
      "6: loss=0.620, reward_mean=49.8, reward_bound=59.0\n",
      "7: loss=0.587, reward_mean=54.2, reward_bound=62.0\n",
      "8: loss=0.595, reward_mean=57.9, reward_bound=65.5\n",
      "9: loss=0.539, reward_mean=60.9, reward_bound=67.5\n",
      "10: loss=0.554, reward_mean=65.2, reward_bound=61.5\n",
      "11: loss=0.531, reward_mean=58.1, reward_bound=62.0\n",
      "12: loss=0.513, reward_mean=60.7, reward_bound=60.5\n",
      "13: loss=0.480, reward_mean=56.5, reward_bound=62.5\n",
      "14: loss=0.495, reward_mean=73.8, reward_bound=75.5\n",
      "15: loss=0.497, reward_mean=66.5, reward_bound=67.0\n",
      "16: loss=0.459, reward_mean=90.6, reward_bound=101.5\n",
      "17: loss=0.467, reward_mean=102.8, reward_bound=118.0\n",
      "18: loss=0.454, reward_mean=115.7, reward_bound=134.0\n",
      "19: loss=0.425, reward_mean=93.5, reward_bound=94.5\n",
      "20: loss=0.409, reward_mean=81.1, reward_bound=97.5\n",
      "21: loss=0.373, reward_mean=78.8, reward_bound=85.5\n",
      "22: loss=0.398, reward_mean=91.3, reward_bound=91.5\n",
      "23: loss=0.371, reward_mean=111.1, reward_bound=119.0\n",
      "24: loss=0.357, reward_mean=148.4, reward_bound=184.0\n",
      "25: loss=0.364, reward_mean=157.9, reward_bound=179.0\n",
      "26: loss=0.369, reward_mean=153.8, reward_bound=177.5\n",
      "27: loss=0.332, reward_mean=148.8, reward_bound=165.5\n",
      "28: loss=0.339, reward_mean=156.4, reward_bound=188.0\n",
      "29: loss=0.342, reward_mean=171.9, reward_bound=193.0\n",
      "30: loss=0.315, reward_mean=174.9, reward_bound=200.0\n",
      "31: loss=0.337, reward_mean=186.8, reward_bound=200.0\n",
      "32: loss=0.317, reward_mean=193.1, reward_bound=200.0\n",
      "33: loss=0.331, reward_mean=197.8, reward_bound=200.0\n",
      "34: loss=0.337, reward_mean=199.8, reward_bound=200.0\n",
      "Solved!\n"
     ]
    }
   ],
   "source": [
    "env = gym.make(\"CartPole-v0\")\n",
    "obs_size = env.observation_space.shape[0]\n",
    "n_actions = env.action_space.n\n",
    "\n",
    "net = Net(HIDDEN_SIZE, n_actions)\n",
    "objective = tf.keras.losses.BinaryCrossentropy()\n",
    "optimizer = tf.keras.optimizers.Adam(learning_rate=0.01)\n",
    "\n",
    "log_dir = \"logs/cartpole_cross_entropy\"\n",
    "writer = tf.summary.create_file_writer(logdir=log_dir)\n",
    "\n",
    "for iter_no, batch in enumerate(iterate_batches(env, net, BATCH_SIZE)):\n",
    "    obs_v, acts_v, reward_b, reward_m = filter_batch(batch, PERCENTILE)\n",
    "    with tf.GradientTape() as g:\n",
    "        action_scores_v = net(obs_v)\n",
    "        loss_v = tf.reduce_mean(tf.nn.sparse_softmax_cross_entropy_with_logits(acts_v, action_scores_v))\n",
    "\n",
    "    gradients = g.gradient(loss_v, sources=net.trainable_variables)\n",
    "    optimizer.apply_gradients(zip(gradients, net.trainable_variables))\n",
    "\n",
    "    print(\"%d: loss=%.3f, reward_mean=%.1f, reward_bound=%.1f\" % (\n",
    "        iter_no, loss_v.numpy(), reward_m, reward_b))\n",
    "    with writer.as_default():\n",
    "        tf.summary.scalar(\"loss\", loss_v, iter_no)\n",
    "        tf.summary.scalar(\"reward_bound\", reward_b, iter_no)\n",
    "        tf.summary.scalar(\"reward_mean\", reward_m, iter_no)\n",
    "\n",
    "    if reward_m > 199:\n",
    "        print(\"Solved!\")\n",
    "        break\n",
    "\n"
   ],
   "metadata": {
    "collapsed": false,
    "pycharm": {
     "name": "#%%\n"
    }
   }
  }
 ],
 "metadata": {
  "kernelspec": {
   "display_name": "Python 3",
   "language": "python",
   "name": "python3"
  },
  "language_info": {
   "codemirror_mode": {
    "name": "ipython",
    "version": 2
   },
   "file_extension": ".py",
   "mimetype": "text/x-python",
   "name": "python",
   "nbconvert_exporter": "python",
   "pygments_lexer": "ipython2",
   "version": "2.7.6"
  }
 },
 "nbformat": 4,
 "nbformat_minor": 0
}